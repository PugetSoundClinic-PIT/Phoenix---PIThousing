{
 "cells": [
  {
   "cell_type": "code",
   "execution_count": 1,
   "id": "232fd13f-b8f0-47ff-8309-8ae6fecaf59b",
   "metadata": {},
   "outputs": [
    {
     "name": "stdout",
     "output_type": "stream",
     "text": [
      "Requirement already satisfied: selenium in c:\\users\\jaini\\college stuff- uw\\onedrive - uw\\anaconda3\\lib\\site-packages (4.18.1)\n",
      "Requirement already satisfied: urllib3<3,>=1.26 in c:\\users\\jaini\\college stuff- uw\\onedrive - uw\\anaconda3\\lib\\site-packages (from urllib3[socks]<3,>=1.26->selenium) (1.26.4)\n",
      "Requirement already satisfied: trio~=0.17 in c:\\users\\jaini\\college stuff- uw\\onedrive - uw\\anaconda3\\lib\\site-packages (from selenium) (0.24.0)\n",
      "Requirement already satisfied: trio-websocket~=0.9 in c:\\users\\jaini\\college stuff- uw\\onedrive - uw\\anaconda3\\lib\\site-packages (from selenium) (0.11.1)\n",
      "Requirement already satisfied: certifi>=2021.10.8 in c:\\users\\jaini\\college stuff- uw\\onedrive - uw\\anaconda3\\lib\\site-packages (from selenium) (2024.2.2)\n",
      "Requirement already satisfied: typing_extensions>=4.9.0 in c:\\users\\jaini\\college stuff- uw\\onedrive - uw\\anaconda3\\lib\\site-packages (from selenium) (4.10.0)\n",
      "Requirement already satisfied: attrs>=20.1.0 in c:\\users\\jaini\\college stuff- uw\\onedrive - uw\\anaconda3\\lib\\site-packages (from trio~=0.17->selenium) (20.3.0)\n",
      "Requirement already satisfied: sortedcontainers in c:\\users\\jaini\\college stuff- uw\\onedrive - uw\\anaconda3\\lib\\site-packages (from trio~=0.17->selenium) (2.3.0)\n",
      "Requirement already satisfied: idna in c:\\users\\jaini\\college stuff- uw\\onedrive - uw\\anaconda3\\lib\\site-packages (from trio~=0.17->selenium) (2.10)\n",
      "Requirement already satisfied: outcome in c:\\users\\jaini\\college stuff- uw\\onedrive - uw\\anaconda3\\lib\\site-packages (from trio~=0.17->selenium) (1.3.0.post0)\n",
      "Requirement already satisfied: sniffio>=1.3.0 in c:\\users\\jaini\\college stuff- uw\\onedrive - uw\\anaconda3\\lib\\site-packages (from trio~=0.17->selenium) (1.3.1)\n",
      "Requirement already satisfied: cffi>=1.14 in c:\\users\\jaini\\college stuff- uw\\onedrive - uw\\anaconda3\\lib\\site-packages (from trio~=0.17->selenium) (1.14.5)\n",
      "Requirement already satisfied: exceptiongroup in c:\\users\\jaini\\college stuff- uw\\onedrive - uw\\anaconda3\\lib\\site-packages (from trio~=0.17->selenium) (1.2.0)\n",
      "Requirement already satisfied: wsproto>=0.14 in c:\\users\\jaini\\college stuff- uw\\onedrive - uw\\anaconda3\\lib\\site-packages (from trio-websocket~=0.9->selenium) (1.2.0)\n",
      "Requirement already satisfied: PySocks!=1.5.7,<2.0,>=1.5.6 in c:\\users\\jaini\\college stuff- uw\\onedrive - uw\\anaconda3\\lib\\site-packages (from urllib3[socks]<3,>=1.26->selenium) (1.7.1)\n",
      "Requirement already satisfied: pycparser in c:\\users\\jaini\\college stuff- uw\\onedrive - uw\\anaconda3\\lib\\site-packages (from cffi>=1.14->trio~=0.17->selenium) (2.20)\n",
      "Requirement already satisfied: h11<1,>=0.9.0 in c:\\users\\jaini\\college stuff- uw\\onedrive - uw\\anaconda3\\lib\\site-packages (from wsproto>=0.14->trio-websocket~=0.9->selenium) (0.14.0)\n"
     ]
    },
    {
     "name": "stderr",
     "output_type": "stream",
     "text": [
      "DEPRECATION: pyodbc 4.0.0-unsupported has a non-standard version number. pip 24.0 will enforce this behaviour change. A possible replacement is to upgrade to a newer version of pyodbc or contact the author to suggest that they release a version with a conforming version number. Discussion can be found at https://github.com/pypa/pip/issues/12063\n",
      "\n",
      "[notice] A new release of pip is available: 23.3.1 -> 24.0\n",
      "[notice] To update, run: python.exe -m pip install --upgrade pip\n"
     ]
    }
   ],
   "source": [
    "! pip install selenium"
   ]
  },
  {
   "cell_type": "code",
   "execution_count": 2,
   "id": "9de2238a-5a3d-48b1-b412-2ae7d024ffc4",
   "metadata": {},
   "outputs": [],
   "source": [
    "from selenium import webdriver\n",
    "from selenium.webdriver.common.keys import Keys\n",
    "from selenium.webdriver.chrome.options import Options\n",
    "from selenium.webdriver.support.ui import Select\n",
    "from selenium.webdriver.support.ui import WebDriverWait\n",
    "from selenium.webdriver.support import expected_conditions as EC\n",
    "from selenium.webdriver.common.by import By\n",
    "import os\n",
    "from datetime import datetime \n",
    "from selenium.common.exceptions import TimeoutException\n",
    "\n",
    "\n",
    "import pandas as pd"
   ]
  },
  {
   "cell_type": "code",
   "execution_count": 3,
   "id": "9459aabc-124d-43c5-beaa-41d4508190e9",
   "metadata": {},
   "outputs": [],
   "source": [
    "# Set the path to the ChromeDriver executable as an environment variable\n",
    "os.environ[\"webdriver.chrome.driver\"] = r'C:\\Users\\jaini\\College Stuff- UW\\OneDrive - UW\\UW info Research\\chromedriver.exe'\n",
    "\n",
    "# Now, you can directly create a Chrome webdriver instance without specifying the executable path\n",
    "driver = webdriver.Chrome()"
   ]
  },
  {
   "cell_type": "code",
   "execution_count": 4,
   "id": "431d6664-618a-4954-8aaa-4713003b0802",
   "metadata": {},
   "outputs": [],
   "source": [
    "# opening the site\n",
    "driver.get('https://recorder.maricopa.gov/recdocdata/')"
   ]
  },
  {
   "cell_type": "code",
   "execution_count": 5,
   "id": "2867a6d6-98f9-4e56-b948-f5dcb5682163",
   "metadata": {},
   "outputs": [],
   "source": [
    "# choosing specific document code\n",
    "\n",
    "# picking the right drop down from Document code\n",
    "doc_code = WebDriverWait(driver, 10).until(\n",
    "    EC.element_to_be_clickable((By.ID, \"ctl00_ContentPlaceHolder1_ddlDocCodes\")))\n",
    "select = Select(doc_code)\n",
    "select.select_by_visible_text(\"DEED/USE WITH ANY GENERAL DEED TYPE\")"
   ]
  },
  {
   "cell_type": "code",
   "execution_count": 6,
   "id": "35b53401-c3a0-4761-ad0f-4dd22c83db75",
   "metadata": {},
   "outputs": [
    {
     "ename": "IndentationError",
     "evalue": "unexpected indent (<ipython-input-6-b87689a7d057>, line 27)",
     "output_type": "error",
     "traceback": [
      "\u001b[1;36m  File \u001b[1;32m\"<ipython-input-6-b87689a7d057>\"\u001b[1;36m, line \u001b[1;32m27\u001b[0m\n\u001b[1;33m    current_url = driver.current_url\u001b[0m\n\u001b[1;37m    ^\u001b[0m\n\u001b[1;31mIndentationError\u001b[0m\u001b[1;31m:\u001b[0m unexpected indent\n"
     ]
    }
   ],
   "source": [
    "# Choosing the dates\n",
    "\n",
    "# start date picker element by its ID\n",
    "# start_date = WebDriverWait(driver, 10).until(\n",
    "#     EC.element_to_be_clickable((By.ID, \"ctl00_ContentPlaceHolder1_datepicker_dateInput\")))\n",
    "# driver.execute_script(\"arguments[0].value = '01/01/2018';\", start_date)\n",
    "\n",
    "# # End date ID\n",
    "# end_date = WebDriverWait(driver, 10).until(\n",
    "#     EC.element_to_be_clickable((By.ID, \"ctl00_ContentPlaceHolder1_datepickerEnd_dateInput\")))\n",
    "# end_date.click()\n",
    "\n",
    "# # Get today's date\n",
    "# today_date = datetime.today().strftime('%m/%d/%Y')\n",
    "# driver.execute_script(\"arguments[0].value = '{}';\".format(today_date), end_date)\n",
    "\n",
    "# # Now Clicking the search button\n",
    "\n",
    "# search_button = WebDriverWait(driver, 20).until(\n",
    "#     EC.element_to_be_clickable((By.ID, \"ctl00_ContentPlaceHolder1_btnSearchPanel1\"))\n",
    "# )\n",
    "# search_button.click()\n",
    "\n",
    "# ebDriverWait(driver, 20).until(EC.url_changes(driver.current_url))\n",
    "\n",
    "#     # Get the current URL\n",
    "#     current_url = driver.current_url\n",
    "#     print(\"Current URL after clicking search:\", current_url)\n",
    "\n",
    "#     # Navigate to the specific URL\n",
    "#     driver.get(current_url)\n"
   ]
  },
  {
   "cell_type": "code",
   "execution_count": null,
   "id": "b67fbd1b-2bcd-419e-984f-e0e73582ae8d",
   "metadata": {},
   "outputs": [],
   "source": [
    "# try:\n",
    "    # Start date picker\n",
    "    start_date = WebDriverWait(driver, 20).until(\n",
    "        EC.element_to_be_clickable((By.ID, \"ctl00_ContentPlaceHolder1_datepicker_dateInput\")))\n",
    "    driver.execute_script(\"arguments[0].value = '01/01/2018';\", start_date)\n",
    "\n",
    "    # End date picker\n",
    "    end_date = WebDriverWait(driver, 20).until(\n",
    "        EC.element_to_be_clickable((By.ID, \"ctl00_ContentPlaceHolder1_datepickerEnd_dateInput\")))\n",
    "    end_date.click()\n",
    "\n",
    "    # Set end date to today\n",
    "    today_date = datetime.today().strftime('%m/%d/%Y')\n",
    "    driver.execute_script(\"arguments[0].value = '{}';\".format(today_date), end_date)\n",
    "\n",
    "    # Click search button\n",
    "    search_button = WebDriverWait(driver, 20).until(\n",
    "        EC.element_to_be_clickable((By.ID, \"ctl00_ContentPlaceHolder1_btnSearchPanel1_ClientState\"))\n",
    "    )\n",
    "    search_button.click()\n",
    "except TimeoutException as e:\n",
    "    print(\"TimeoutException:\", e)\n",
    "\n",
    "# Close the browser window\n",
    "#driver.quit()"
   ]
  },
  {
   "cell_type": "code",
   "execution_count": null,
   "id": "6bfe5652-304a-491a-992a-4ade4784751d",
   "metadata": {},
   "outputs": [],
   "source": []
  }
 ],
 "metadata": {
  "kernelspec": {
   "display_name": "Python 3",
   "language": "python",
   "name": "python3"
  },
  "language_info": {
   "codemirror_mode": {
    "name": "ipython",
    "version": 3
   },
   "file_extension": ".py",
   "mimetype": "text/x-python",
   "name": "python",
   "nbconvert_exporter": "python",
   "pygments_lexer": "ipython3",
   "version": "3.8.8"
  }
 },
 "nbformat": 4,
 "nbformat_minor": 5
}
